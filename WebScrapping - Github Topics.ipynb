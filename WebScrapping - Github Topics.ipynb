{
 "cells": [
  {
   "cell_type": "markdown",
   "id": "2fa05c7d",
   "metadata": {},
   "source": [
    "### Scrapping Github topics repositories (Top Repositories)\n",
    "\n",
    "[GitHub Profile\t\t😶‍🌫️](https://github.com/gaurav4601)"
   ]
  },
  {
   "cell_type": "markdown",
   "id": "b8114f10",
   "metadata": {},
   "source": [
    "### Pick a website and describe your objective"
   ]
  },
  {
   "cell_type": "markdown",
   "id": "7eed63ed",
   "metadata": {},
   "source": [
    "\n",
    "**Outline**\n",
    "\n",
    "- We're going to scrap the page https://github.com/topics\n",
    "- Get Topic title, URL of page , topic description\n",
    "- for each topic scrap only 25 top repository\n",
    "- for each ropo repo name,username,stars and repo url\n",
    "- for each topic create a sepearate csv file \n",
    "\n",
    "\n",
    "Repo Name,\tUsername,\tStars\t,Repo URL\n",
    "\n",
    "tree.js,\tmrdoob,,\t69700\t,https://github.com/mrdoob/three.js\n"
   ]
  },
  {
   "cell_type": "code",
   "execution_count": 2,
   "id": "83b2a1f1",
   "metadata": {},
   "outputs": [],
   "source": [
    "#request libraries to download the webpages\n",
    "import requests"
   ]
  },
  {
   "cell_type": "code",
   "execution_count": 3,
   "id": "ddbf4ed0",
   "metadata": {},
   "outputs": [],
   "source": [
    "topics_url = 'https://github.com/topics'\n",
    "responce = requests.get(topics_url)"
   ]
  },
  {
   "cell_type": "code",
   "execution_count": 5,
   "id": "abae8b8c",
   "metadata": {},
   "outputs": [
    {
     "data": {
      "text/plain": [
       "200"
      ]
     },
     "execution_count": 5,
     "metadata": {},
     "output_type": "execute_result"
    }
   ],
   "source": [
    "responce.status_code"
   ]
  },
  {
   "cell_type": "code",
   "execution_count": 7,
   "id": "b7774614",
   "metadata": {},
   "outputs": [
    {
     "data": {
      "text/plain": [
       "152283"
      ]
     },
     "execution_count": 7,
     "metadata": {},
     "output_type": "execute_result"
    }
   ],
   "source": [
    "len(responce.text)"
   ]
  },
  {
   "cell_type": "code",
   "execution_count": 8,
   "id": "7b9dc340",
   "metadata": {},
   "outputs": [
    {
     "data": {
      "text/plain": [
       "str"
      ]
     },
     "execution_count": 8,
     "metadata": {},
     "output_type": "execute_result"
    }
   ],
   "source": [
    "type(responce.text)"
   ]
  },
  {
   "cell_type": "code",
   "execution_count": 9,
   "id": "db0239e4",
   "metadata": {},
   "outputs": [],
   "source": [
    "page_content = responce.text"
   ]
  },
  {
   "cell_type": "code",
   "execution_count": 10,
   "id": "6e1b368b",
   "metadata": {},
   "outputs": [
    {
     "data": {
      "text/plain": [
       "'\\n\\n<!DOCTYPE html>\\n<html lang=\"en\" data-color-mode=\"auto\" data-light-theme=\"light\" data-dark-theme=\"d'"
      ]
     },
     "execution_count": 10,
     "metadata": {},
     "output_type": "execute_result"
    }
   ],
   "source": [
    "page_content[:100]"
   ]
  },
  {
   "cell_type": "code",
   "execution_count": 13,
   "id": "a744eb31",
   "metadata": {},
   "outputs": [],
   "source": [
    "with open('webpage.html','w', encoding=\"utf-8\") as f:\n",
    "    f.write(page_content)"
   ]
  },
  {
   "cell_type": "code",
   "execution_count": null,
   "id": "d23006e4",
   "metadata": {},
   "outputs": [],
   "source": []
  },
  {
   "cell_type": "markdown",
   "id": "3ff69e82",
   "metadata": {},
   "source": [
    "### Use the requests library to download web pages"
   ]
  },
  {
   "cell_type": "code",
   "execution_count": 14,
   "id": "928f2ec3",
   "metadata": {},
   "outputs": [],
   "source": [
    "# import beautiful soup\n",
    "from bs4 import BeautifulSoup\n",
    "soup = BeautifulSoup(page_content,'html.parser')"
   ]
  },
  {
   "cell_type": "code",
   "execution_count": 27,
   "id": "db9035f6",
   "metadata": {},
   "outputs": [],
   "source": [
    "topic_title_tags = soup.find_all('p',{'class':'f3 lh-condensed mb-0 mt-1 Link--primary'})"
   ]
  },
  {
   "cell_type": "code",
   "execution_count": 29,
   "id": "fa9badd0",
   "metadata": {},
   "outputs": [
    {
     "name": "stdout",
     "output_type": "stream",
     "text": [
      "30\n"
     ]
    }
   ],
   "source": [
    "print(len(topic_title_tags))\n",
    "#topic_title_tags[:30]"
   ]
  },
  {
   "cell_type": "code",
   "execution_count": 30,
   "id": "3129972b",
   "metadata": {},
   "outputs": [],
   "source": [
    "#get description \n",
    "topic_desc_tags = soup.find_all('p',class_='f5 color-fg-muted mb-0 mt-1')"
   ]
  },
  {
   "cell_type": "code",
   "execution_count": 41,
   "id": "f1bd0a6d",
   "metadata": {},
   "outputs": [],
   "source": [
    "topic_link_tags = soup.find_all('a',{'class':'no-underline flex-1 d-flex flex-column'})"
   ]
  },
  {
   "cell_type": "code",
   "execution_count": 64,
   "id": "db6dadc9",
   "metadata": {},
   "outputs": [
    {
     "name": "stdout",
     "output_type": "stream",
     "text": [
      "https://github.com/topics/3d\n"
     ]
    }
   ],
   "source": [
    "topic0_url = 'https://github.com' + topic_link_tags[0]['href']\n",
    "\n",
    "print(topic0_url)"
   ]
  },
  {
   "cell_type": "code",
   "execution_count": 50,
   "id": "78665a2a",
   "metadata": {},
   "outputs": [],
   "source": [
    "topic_title =[]\n",
    "\n",
    "for tag in topic_title_tags:\n",
    "    topic_title.append(tag.text)"
   ]
  },
  {
   "cell_type": "code",
   "execution_count": 52,
   "id": "52b87c70",
   "metadata": {},
   "outputs": [
    {
     "name": "stdout",
     "output_type": "stream",
     "text": [
      "['3D', 'Ajax', 'Algorithm', 'Amp', 'Android', 'Angular', 'Ansible', 'API', 'Arduino', 'ASP.NET', 'Atom', 'Awesome Lists', 'Amazon Web Services', 'Azure', 'Babel', 'Bash', 'Bitcoin', 'Bootstrap', 'Bot', 'C', 'Chrome', 'Chrome extension', 'Command line interface', 'Clojure', 'Code quality', 'Code review', 'Compiler', 'Continuous integration', 'COVID-19', 'C++']\n"
     ]
    }
   ],
   "source": [
    "print(topic_title)"
   ]
  },
  {
   "cell_type": "code",
   "execution_count": 56,
   "id": "1e3a4f91",
   "metadata": {},
   "outputs": [
    {
     "name": "stdout",
     "output_type": "stream",
     "text": [
      "\n",
      "          3D refers to the use of three-dimensional graphics, modeling, and animation in various industries.\n",
      "        \n"
     ]
    }
   ],
   "source": [
    "print(topic_desc_tags[0].text)"
   ]
  },
  {
   "cell_type": "code",
   "execution_count": 59,
   "id": "1a09969a",
   "metadata": {},
   "outputs": [],
   "source": [
    "topic_description = []\n",
    "\n",
    "for tag in topic_desc_tags:\n",
    "    topic_description.append(tag.text.strip())"
   ]
  },
  {
   "cell_type": "code",
   "execution_count": 61,
   "id": "dff796b8",
   "metadata": {},
   "outputs": [
    {
     "data": {
      "text/plain": [
       "['3D refers to the use of three-dimensional graphics, modeling, and animation in various industries.',\n",
       " 'Ajax is a technique for creating interactive web applications.',\n",
       " 'Algorithms are self-contained sequences that carry out a variety of tasks.',\n",
       " 'Amp is a non-blocking concurrency library for PHP.',\n",
       " 'Android is an operating system built by Google designed for mobile devices.']"
      ]
     },
     "execution_count": 61,
     "metadata": {},
     "output_type": "execute_result"
    }
   ],
   "source": [
    "topic_description[0:5]"
   ]
  },
  {
   "cell_type": "code",
   "execution_count": 66,
   "id": "6aaafdc6",
   "metadata": {},
   "outputs": [],
   "source": [
    "# getting topics url\n",
    "\n",
    "topic_link_tags[0]['href']\n",
    "\n",
    "topic_links = []\n",
    "\n",
    "for tag in topic_link_tags:\n",
    "    topic_links.append('https://github.com' +tag['href'])"
   ]
  },
  {
   "cell_type": "code",
   "execution_count": 67,
   "id": "e415f960",
   "metadata": {},
   "outputs": [
    {
     "data": {
      "text/plain": [
       "['https://github.com/topics/3d',\n",
       " 'https://github.com/topics/ajax',\n",
       " 'https://github.com/topics/algorithm',\n",
       " 'https://github.com/topics/amphp']"
      ]
     },
     "execution_count": 67,
     "metadata": {},
     "output_type": "execute_result"
    }
   ],
   "source": [
    "topic_links[0:4]"
   ]
  },
  {
   "cell_type": "code",
   "execution_count": 71,
   "id": "1b60615f",
   "metadata": {},
   "outputs": [],
   "source": [
    "# create a csv file\n",
    "import pandas as pd\n",
    "\n",
    "# dict of all list \n",
    "\n",
    "dict = {'Topic Name':topic_title,'Topic Description':topic_description,'URL':topic_links}\n",
    "#dict"
   ]
  },
  {
   "cell_type": "code",
   "execution_count": 72,
   "id": "83405ee3",
   "metadata": {},
   "outputs": [],
   "source": [
    "df = pd.DataFrame(dict)"
   ]
  },
  {
   "cell_type": "code",
   "execution_count": 82,
   "id": "6a4cf87b",
   "metadata": {},
   "outputs": [
    {
     "name": "stdout",
     "output_type": "stream",
     "text": [
      "our first file with topic name , description and url is exported to csv format\n"
     ]
    }
   ],
   "source": [
    "df.head()\n",
    "\n",
    "\n",
    "df.to_csv('topics.csv', index=False)\n",
    "\n",
    "print('our first file with topic name , description and url is exported to csv format')"
   ]
  },
  {
   "cell_type": "code",
   "execution_count": 83,
   "id": "59b51ec7",
   "metadata": {},
   "outputs": [],
   "source": [
    "# now we wil go into the each topic and pick the first 30 repo \n",
    "# along with name repo,username,stars,repo url"
   ]
  },
  {
   "cell_type": "code",
   "execution_count": 84,
   "id": "45ee8d7f",
   "metadata": {},
   "outputs": [],
   "source": [
    "topic_page_url = df['URL']"
   ]
  },
  {
   "cell_type": "code",
   "execution_count": 88,
   "id": "e9b142cb",
   "metadata": {},
   "outputs": [
    {
     "data": {
      "text/plain": [
       "'https://github.com/topics/3d'"
      ]
     },
     "execution_count": 88,
     "metadata": {},
     "output_type": "execute_result"
    }
   ],
   "source": [
    "topic_page_url[0]"
   ]
  },
  {
   "cell_type": "code",
   "execution_count": 99,
   "id": "217e8c39",
   "metadata": {},
   "outputs": [],
   "source": [
    "r = requests.get(topic_page_url[0])"
   ]
  },
  {
   "cell_type": "code",
   "execution_count": 100,
   "id": "8a706435",
   "metadata": {},
   "outputs": [
    {
     "data": {
      "text/plain": [
       "455644"
      ]
     },
     "execution_count": 100,
     "metadata": {},
     "output_type": "execute_result"
    }
   ],
   "source": [
    "len(r.text)"
   ]
  },
  {
   "cell_type": "code",
   "execution_count": 101,
   "id": "899fb62b",
   "metadata": {},
   "outputs": [],
   "source": [
    "topic_doc = BeautifulSoup(r.text,'html.parser')"
   ]
  },
  {
   "cell_type": "code",
   "execution_count": 102,
   "id": "e8d4fbd4",
   "metadata": {},
   "outputs": [],
   "source": [
    "div_tags = topic_doc.find_all('div',{'class':'d-flex flex-justify-between flex-items-start flex-wrap gap-2 my-3'})"
   ]
  },
  {
   "cell_type": "code",
   "execution_count": 123,
   "id": "f1843d7c",
   "metadata": {},
   "outputs": [],
   "source": [
    "h3_selection_class = topic_doc.find_all('h3',{'class':'f3 color-fg-muted text-normal lh-condensed'})"
   ]
  },
  {
   "cell_type": "code",
   "execution_count": 125,
   "id": "562b95b6",
   "metadata": {},
   "outputs": [
    {
     "data": {
      "text/plain": [
       "20"
      ]
     },
     "execution_count": 125,
     "metadata": {},
     "output_type": "execute_result"
    }
   ],
   "source": [
    "len(h3_selection_class)"
   ]
  },
  {
   "cell_type": "code",
   "execution_count": 196,
   "id": "0d320041",
   "metadata": {},
   "outputs": [
    {
     "data": {
      "text/plain": [
       "['mrdoob']"
      ]
     },
     "execution_count": 196,
     "metadata": {},
     "output_type": "execute_result"
    }
   ],
   "source": [
    "h3_selection_class[0].find_all('a')[0].text.split()\n",
    "    "
   ]
  },
  {
   "cell_type": "code",
   "execution_count": 197,
   "id": "4fc9eea7",
   "metadata": {},
   "outputs": [
    {
     "data": {
      "text/plain": [
       "['pmndrs']"
      ]
     },
     "execution_count": 197,
     "metadata": {},
     "output_type": "execute_result"
    }
   ],
   "source": [
    "h3_selection_class[1].find_all('a')[0].text.split()"
   ]
  },
  {
   "cell_type": "code",
   "execution_count": 131,
   "id": "199d1fc8",
   "metadata": {},
   "outputs": [
    {
     "data": {
      "text/plain": [
       "['three.js']"
      ]
     },
     "execution_count": 131,
     "metadata": {},
     "output_type": "execute_result"
    }
   ],
   "source": [
    "h3_selection_class[0].find_all('a')[1].text.split()"
   ]
  },
  {
   "cell_type": "code",
   "execution_count": 136,
   "id": "94c6fc85",
   "metadata": {},
   "outputs": [
    {
     "data": {
      "text/plain": [
       "'https://github.com/mrdoob/three.js'"
      ]
     },
     "execution_count": 136,
     "metadata": {},
     "output_type": "execute_result"
    }
   ],
   "source": [
    "base_url = 'https://github.com'\n",
    "\n",
    "base_url+h3_selection_class[0].find_all('a')[1]['href']"
   ]
  },
  {
   "cell_type": "code",
   "execution_count": 142,
   "id": "58e64c05",
   "metadata": {},
   "outputs": [],
   "source": [
    "star_tag = topic_doc.find_all('span',{'id':'repo-stars-counter-star'})"
   ]
  },
  {
   "cell_type": "code",
   "execution_count": 143,
   "id": "8065cbd9",
   "metadata": {},
   "outputs": [
    {
     "data": {
      "text/plain": [
       "20"
      ]
     },
     "execution_count": 143,
     "metadata": {},
     "output_type": "execute_result"
    }
   ],
   "source": [
    "len(star_tag)"
   ]
  },
  {
   "cell_type": "code",
   "execution_count": 145,
   "id": "05d7a0d4",
   "metadata": {},
   "outputs": [
    {
     "data": {
      "text/plain": [
       "'89.1k'"
      ]
     },
     "execution_count": 145,
     "metadata": {},
     "output_type": "execute_result"
    }
   ],
   "source": [
    "star_tag[0].text"
   ]
  },
  {
   "cell_type": "code",
   "execution_count": 198,
   "id": "a519f558",
   "metadata": {},
   "outputs": [
    {
     "data": {
      "text/plain": [
       "'21.4k'"
      ]
     },
     "execution_count": 198,
     "metadata": {},
     "output_type": "execute_result"
    }
   ],
   "source": [
    "star_tag[1].text"
   ]
  },
  {
   "cell_type": "code",
   "execution_count": 172,
   "id": "84ab2bb3",
   "metadata": {},
   "outputs": [],
   "source": [
    "def get_repo_info(h3_tag,star_tg):\n",
    "    username = h3_tag.find_all('a')[0].text.split()\n",
    "    repo_name = h3_tag.find_all('a')[1].text.split()\n",
    "    repo_url = base_url + h3_tag.find_all('a')[1]['href']\n",
    "    star_count = star_tg.text\n",
    "    \n",
    "    return username[0],repo_name[0],star_count,repo_url"
   ]
  },
  {
   "cell_type": "code",
   "execution_count": 173,
   "id": "266ce636",
   "metadata": {},
   "outputs": [
    {
     "data": {
      "text/plain": [
       "('mrdoob', 'three.js', '89.1k', 'https://github.com/mrdoob/three.js')"
      ]
     },
     "execution_count": 173,
     "metadata": {},
     "output_type": "execute_result"
    }
   ],
   "source": [
    "get_repo_info(h3_selection_class[0],star_tag[0])\n"
   ]
  },
  {
   "cell_type": "code",
   "execution_count": 174,
   "id": "fd6d2e08",
   "metadata": {},
   "outputs": [],
   "source": [
    "topic_repo_dict = {\n",
    "    'username':[],\n",
    "    'repo name': [],\n",
    "    'stars':[],\n",
    "    'repo_url':[]\n",
    "}\n",
    "\n",
    "for i in range(len(h3_selection_class)):\n",
    "    repo_info = get_repo_info(h3_selection_class[i],star_tag[i])\n",
    "    topic_repo_dict['username'].append(repo_info[0])\n",
    "    topic_repo_dict['repo name'].append(repo_info[1])\n",
    "    topic_repo_dict['stars'].append(repo_info[2])\n",
    "    topic_repo_dict['repo_url'].append(repo_info[3])\n",
    "    \n"
   ]
  },
  {
   "cell_type": "code",
   "execution_count": 175,
   "id": "e2cf8d1c",
   "metadata": {},
   "outputs": [
    {
     "data": {
      "text/plain": [
       "20"
      ]
     },
     "execution_count": 175,
     "metadata": {},
     "output_type": "execute_result"
    }
   ],
   "source": [
    "len(topic_repo_dict['repo_url'])"
   ]
  },
  {
   "cell_type": "code",
   "execution_count": 176,
   "id": "b021c384",
   "metadata": {},
   "outputs": [
    {
     "data": {
      "text/html": [
       "<div>\n",
       "<style scoped>\n",
       "    .dataframe tbody tr th:only-of-type {\n",
       "        vertical-align: middle;\n",
       "    }\n",
       "\n",
       "    .dataframe tbody tr th {\n",
       "        vertical-align: top;\n",
       "    }\n",
       "\n",
       "    .dataframe thead th {\n",
       "        text-align: right;\n",
       "    }\n",
       "</style>\n",
       "<table border=\"1\" class=\"dataframe\">\n",
       "  <thead>\n",
       "    <tr style=\"text-align: right;\">\n",
       "      <th></th>\n",
       "      <th>username</th>\n",
       "      <th>repo name</th>\n",
       "      <th>stars</th>\n",
       "      <th>repo_url</th>\n",
       "    </tr>\n",
       "  </thead>\n",
       "  <tbody>\n",
       "    <tr>\n",
       "      <th>0</th>\n",
       "      <td>mrdoob</td>\n",
       "      <td>three.js</td>\n",
       "      <td>89.1k</td>\n",
       "      <td>https://github.com/mrdoob/three.js</td>\n",
       "    </tr>\n",
       "    <tr>\n",
       "      <th>1</th>\n",
       "      <td>pmndrs</td>\n",
       "      <td>react-three-fiber</td>\n",
       "      <td>21.4k</td>\n",
       "      <td>https://github.com/pmndrs/react-three-fiber</td>\n",
       "    </tr>\n",
       "    <tr>\n",
       "      <th>2</th>\n",
       "      <td>libgdx</td>\n",
       "      <td>libgdx</td>\n",
       "      <td>21.1k</td>\n",
       "      <td>https://github.com/libgdx/libgdx</td>\n",
       "    </tr>\n",
       "    <tr>\n",
       "      <th>3</th>\n",
       "      <td>BabylonJS</td>\n",
       "      <td>Babylon.js</td>\n",
       "      <td>19.4k</td>\n",
       "      <td>https://github.com/BabylonJS/Babylon.js</td>\n",
       "    </tr>\n",
       "    <tr>\n",
       "      <th>4</th>\n",
       "      <td>ssloy</td>\n",
       "      <td>tinyrenderer</td>\n",
       "      <td>16.1k</td>\n",
       "      <td>https://github.com/ssloy/tinyrenderer</td>\n",
       "    </tr>\n",
       "    <tr>\n",
       "      <th>5</th>\n",
       "      <td>aframevr</td>\n",
       "      <td>aframe</td>\n",
       "      <td>15.1k</td>\n",
       "      <td>https://github.com/aframevr/aframe</td>\n",
       "    </tr>\n",
       "    <tr>\n",
       "      <th>6</th>\n",
       "      <td>lettier</td>\n",
       "      <td>3d-game-shaders-for-beginners</td>\n",
       "      <td>14.5k</td>\n",
       "      <td>https://github.com/lettier/3d-game-shaders-for...</td>\n",
       "    </tr>\n",
       "    <tr>\n",
       "      <th>7</th>\n",
       "      <td>FreeCAD</td>\n",
       "      <td>FreeCAD</td>\n",
       "      <td>13.2k</td>\n",
       "      <td>https://github.com/FreeCAD/FreeCAD</td>\n",
       "    </tr>\n",
       "    <tr>\n",
       "      <th>8</th>\n",
       "      <td>CesiumGS</td>\n",
       "      <td>cesium</td>\n",
       "      <td>9.9k</td>\n",
       "      <td>https://github.com/CesiumGS/cesium</td>\n",
       "    </tr>\n",
       "    <tr>\n",
       "      <th>9</th>\n",
       "      <td>metafizzy</td>\n",
       "      <td>zdog</td>\n",
       "      <td>9.6k</td>\n",
       "      <td>https://github.com/metafizzy/zdog</td>\n",
       "    </tr>\n",
       "    <tr>\n",
       "      <th>10</th>\n",
       "      <td>timzhang642</td>\n",
       "      <td>3D-Machine-Learning</td>\n",
       "      <td>8.7k</td>\n",
       "      <td>https://github.com/timzhang642/3D-Machine-Lear...</td>\n",
       "    </tr>\n",
       "    <tr>\n",
       "      <th>11</th>\n",
       "      <td>isl-org</td>\n",
       "      <td>Open3D</td>\n",
       "      <td>8.1k</td>\n",
       "      <td>https://github.com/isl-org/Open3D</td>\n",
       "    </tr>\n",
       "    <tr>\n",
       "      <th>12</th>\n",
       "      <td>blender</td>\n",
       "      <td>blender</td>\n",
       "      <td>7.7k</td>\n",
       "      <td>https://github.com/blender/blender</td>\n",
       "    </tr>\n",
       "    <tr>\n",
       "      <th>13</th>\n",
       "      <td>a1studmuffin</td>\n",
       "      <td>SpaceshipGenerator</td>\n",
       "      <td>7.3k</td>\n",
       "      <td>https://github.com/a1studmuffin/SpaceshipGener...</td>\n",
       "    </tr>\n",
       "    <tr>\n",
       "      <th>14</th>\n",
       "      <td>domlysz</td>\n",
       "      <td>BlenderGIS</td>\n",
       "      <td>6k</td>\n",
       "      <td>https://github.com/domlysz/BlenderGIS</td>\n",
       "    </tr>\n",
       "    <tr>\n",
       "      <th>15</th>\n",
       "      <td>FyroxEngine</td>\n",
       "      <td>Fyrox</td>\n",
       "      <td>5.9k</td>\n",
       "      <td>https://github.com/FyroxEngine/Fyrox</td>\n",
       "    </tr>\n",
       "    <tr>\n",
       "      <th>16</th>\n",
       "      <td>openscad</td>\n",
       "      <td>openscad</td>\n",
       "      <td>5.4k</td>\n",
       "      <td>https://github.com/openscad/openscad</td>\n",
       "    </tr>\n",
       "    <tr>\n",
       "      <th>17</th>\n",
       "      <td>google</td>\n",
       "      <td>model-viewer</td>\n",
       "      <td>5.3k</td>\n",
       "      <td>https://github.com/google/model-viewer</td>\n",
       "    </tr>\n",
       "    <tr>\n",
       "      <th>18</th>\n",
       "      <td>spritejs</td>\n",
       "      <td>spritejs</td>\n",
       "      <td>5.1k</td>\n",
       "      <td>https://github.com/spritejs/spritejs</td>\n",
       "    </tr>\n",
       "    <tr>\n",
       "      <th>19</th>\n",
       "      <td>jagenjo</td>\n",
       "      <td>webglstudio.js</td>\n",
       "      <td>4.9k</td>\n",
       "      <td>https://github.com/jagenjo/webglstudio.js</td>\n",
       "    </tr>\n",
       "  </tbody>\n",
       "</table>\n",
       "</div>"
      ],
      "text/plain": [
       "        username                      repo name  stars  \\\n",
       "0         mrdoob                       three.js  89.1k   \n",
       "1         pmndrs              react-three-fiber  21.4k   \n",
       "2         libgdx                         libgdx  21.1k   \n",
       "3      BabylonJS                     Babylon.js  19.4k   \n",
       "4          ssloy                   tinyrenderer  16.1k   \n",
       "5       aframevr                         aframe  15.1k   \n",
       "6        lettier  3d-game-shaders-for-beginners  14.5k   \n",
       "7        FreeCAD                        FreeCAD  13.2k   \n",
       "8       CesiumGS                         cesium   9.9k   \n",
       "9      metafizzy                           zdog   9.6k   \n",
       "10   timzhang642            3D-Machine-Learning   8.7k   \n",
       "11       isl-org                         Open3D   8.1k   \n",
       "12       blender                        blender   7.7k   \n",
       "13  a1studmuffin             SpaceshipGenerator   7.3k   \n",
       "14       domlysz                     BlenderGIS     6k   \n",
       "15   FyroxEngine                          Fyrox   5.9k   \n",
       "16      openscad                       openscad   5.4k   \n",
       "17        google                   model-viewer   5.3k   \n",
       "18      spritejs                       spritejs   5.1k   \n",
       "19       jagenjo                 webglstudio.js   4.9k   \n",
       "\n",
       "                                             repo_url  \n",
       "0                  https://github.com/mrdoob/three.js  \n",
       "1         https://github.com/pmndrs/react-three-fiber  \n",
       "2                    https://github.com/libgdx/libgdx  \n",
       "3             https://github.com/BabylonJS/Babylon.js  \n",
       "4               https://github.com/ssloy/tinyrenderer  \n",
       "5                  https://github.com/aframevr/aframe  \n",
       "6   https://github.com/lettier/3d-game-shaders-for...  \n",
       "7                  https://github.com/FreeCAD/FreeCAD  \n",
       "8                  https://github.com/CesiumGS/cesium  \n",
       "9                   https://github.com/metafizzy/zdog  \n",
       "10  https://github.com/timzhang642/3D-Machine-Lear...  \n",
       "11                  https://github.com/isl-org/Open3D  \n",
       "12                 https://github.com/blender/blender  \n",
       "13  https://github.com/a1studmuffin/SpaceshipGener...  \n",
       "14              https://github.com/domlysz/BlenderGIS  \n",
       "15               https://github.com/FyroxEngine/Fyrox  \n",
       "16               https://github.com/openscad/openscad  \n",
       "17             https://github.com/google/model-viewer  \n",
       "18               https://github.com/spritejs/spritejs  \n",
       "19          https://github.com/jagenjo/webglstudio.js  "
      ]
     },
     "execution_count": 176,
     "metadata": {},
     "output_type": "execute_result"
    }
   ],
   "source": [
    "pd.DataFrame(topic_repo_dict)"
   ]
  },
  {
   "cell_type": "code",
   "execution_count": 178,
   "id": "5e263c27",
   "metadata": {},
   "outputs": [
    {
     "name": "stdout",
     "output_type": "stream",
     "text": [
      "we will get 30 dataframes each data frame contains the 20 top repo infomation\n"
     ]
    }
   ],
   "source": [
    "# build the function to get sep df for all of our topics\n",
    "len(topic_links)\n",
    "\n",
    "print('we will get 30 dataframes each data frame contains the 20 top repo infomation')"
   ]
  },
  {
   "cell_type": "code",
   "execution_count": 204,
   "id": "6b8bc78f",
   "metadata": {},
   "outputs": [],
   "source": [
    "def get_topic_repo(topic_url):\n",
    "    #request the url\n",
    "    res = requests.get(topic_url)\n",
    "    if res.status_code != 200:\n",
    "        print(\"Not Reacheable\")\n",
    "        raise Exception('Failed to load the webpage{}'.format(topic_url))\n",
    "    #parse \n",
    "    else:\n",
    "        soup = BeautifulSoup(res.text,'html.parser')\n",
    "        h_selection_class = soup.find_all('h3',{'class':'f3 color-fg-muted text-normal lh-condensed'})\n",
    "        star_tags = soup.find_all('span',{'id':'repo-stars-counter-star'})\n",
    "        \n",
    "        \n",
    "        topic_repo_dic = {\n",
    "                    'username':[],\n",
    "                    'repo name': [],\n",
    "                    'stars':[],\n",
    "                    'repo_url':[]\n",
    "                }\n",
    "        #run the loop\n",
    "        \n",
    "        for i in range(len(h_selection_class)):\n",
    "            repo_info = get_repo_info(h_selection_class[i],star_tags[i])\n",
    "            topic_repo_dic['username'].append(repo_info[0])\n",
    "            topic_repo_dic['repo name'].append(repo_info[1])\n",
    "            topic_repo_dic['stars'].append(repo_info[2])\n",
    "            topic_repo_dic['repo_url'].append(repo_info[3])\n",
    "            \n",
    "        return pd.DataFrame(topic_repo_dic)\n",
    "\n",
    "    "
   ]
  },
  {
   "cell_type": "code",
   "execution_count": 205,
   "id": "da595bb6",
   "metadata": {},
   "outputs": [
    {
     "data": {
      "text/plain": [
       "'https://github.com/topics/algorithm'"
      ]
     },
     "execution_count": 205,
     "metadata": {},
     "output_type": "execute_result"
    }
   ],
   "source": [
    "topic_links[2]"
   ]
  },
  {
   "cell_type": "code",
   "execution_count": 207,
   "id": "79c42360",
   "metadata": {},
   "outputs": [],
   "source": [
    "#get_topic_repo('https://github.com/topics/algorithm')"
   ]
  },
  {
   "cell_type": "code",
   "execution_count": 209,
   "id": "d4380251",
   "metadata": {},
   "outputs": [],
   "source": [
    "for url in topic_links:\n",
    "    topic_name = url.split('/')[-1] + '.csv'\n",
    "    df = get_topic_repo(url)\n",
    "    df.to_csv(topic_name,index=False)\n",
    "    "
   ]
  },
  {
   "cell_type": "code",
   "execution_count": null,
   "id": "dc9e3f6c",
   "metadata": {},
   "outputs": [],
   "source": []
  },
  {
   "cell_type": "markdown",
   "id": "51bf149a",
   "metadata": {},
   "source": [
    "### This is my first web scrapping project \n",
    "\n",
    "\tlibraries used \n",
    "    - requests\n",
    "    - BeautifulSoup\n",
    "    \n",
    "    Refenrence Jovian.ai\n",
    "    "
   ]
  },
  {
   "cell_type": "code",
   "execution_count": null,
   "id": "6816aa57",
   "metadata": {},
   "outputs": [],
   "source": []
  }
 ],
 "metadata": {
  "kernelspec": {
   "display_name": "Python 3 (ipykernel)",
   "language": "python",
   "name": "python3"
  },
  "language_info": {
   "codemirror_mode": {
    "name": "ipython",
    "version": 3
   },
   "file_extension": ".py",
   "mimetype": "text/x-python",
   "name": "python",
   "nbconvert_exporter": "python",
   "pygments_lexer": "ipython3",
   "version": "3.10.9"
  }
 },
 "nbformat": 4,
 "nbformat_minor": 5
}
